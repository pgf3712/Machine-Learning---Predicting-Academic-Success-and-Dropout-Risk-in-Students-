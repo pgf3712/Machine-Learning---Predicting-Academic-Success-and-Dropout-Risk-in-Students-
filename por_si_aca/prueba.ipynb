{
 "cells": [
  {
   "cell_type": "code",
   "execution_count": 6,
   "metadata": {},
   "outputs": [
    {
     "name": "stdout",
     "output_type": "stream",
     "text": [
      "Pipeline(steps=[('scaler', StandardScaler()),\n",
      "                ('svm',\n",
      "                 SVC(C=0.1, kernel='linear', max_iter=1000, probability=True))])\n",
      "{'memory': None, 'steps': [('scaler', StandardScaler()), ('svm', SVC(C=0.1, kernel='linear', max_iter=1000, probability=True))], 'verbose': False, 'scaler': StandardScaler(), 'svm': SVC(C=0.1, kernel='linear', max_iter=1000, probability=True), 'scaler__copy': True, 'scaler__with_mean': True, 'scaler__with_std': True, 'svm__C': 0.1, 'svm__break_ties': False, 'svm__cache_size': 200, 'svm__class_weight': None, 'svm__coef0': 0.0, 'svm__decision_function_shape': 'ovr', 'svm__degree': 3, 'svm__gamma': 'scale', 'svm__kernel': 'linear', 'svm__max_iter': 1000, 'svm__probability': True, 'svm__random_state': None, 'svm__shrinking': True, 'svm__tol': 0.001, 'svm__verbose': False}\n"
     ]
    }
   ],
   "source": [
    "import pickle\n",
    "\n",
    "# Cargar el modelo\n",
    "with open('../04_models/final_model.pkl', 'rb') as f:\n",
    "    model = pickle.load(f)\n",
    "\n",
    "# Extraer información del modelo\n",
    "print(model)\n",
    "print(model.get_params())"
   ]
  },
  {
   "cell_type": "code",
   "execution_count": 2,
   "metadata": {},
   "outputs": [],
   "source": [
    "import yaml"
   ]
  },
  {
   "cell_type": "code",
   "execution_count": 8,
   "metadata": {},
   "outputs": [],
   "source": [
    "import yaml\n",
    "\n",
    "# Contenido del archivo YAML como un diccionario en Python\n",
    "config = {\n",
    "    \"model\": {\n",
    "        \"type\": \"Support Vector Machine\",\n",
    "        \"library\": \"scikit-learn\",\n",
    "        \"version\": \"1.5.2\"\n",
    "    },\n",
    "    \"pipeline\": {\n",
    "        \"steps\": [\n",
    "            {\"scaler\": \"StandardScaler\"},\n",
    "            {\"svm\": \"SVC\"}\n",
    "        ]\n",
    "    },\n",
    "    \"hyperparameters\": {\n",
    "        \"svm\": {\n",
    "            \"C\": 0.1,\n",
    "            \"kernel\": \"linear\",\n",
    "            \"max_iter\": 1000,\n",
    "            \"probability\": True,\n",
    "            \"gamma\": \"scale\",\n",
    "            \"decision_function_shape\": \"ovr\",\n",
    "            \"tol\": 0.001,\n",
    "            \"shrinking\": True\n",
    "        },\n",
    "        \"scaler\": {\n",
    "            \"with_mean\": True,\n",
    "            \"with_std\": True\n",
    "        }\n",
    "    },\n",
    "    \"data\": {\n",
    "        \"input_features\": [\n",
    "            \"Tuition fees up to date\",\n",
    "            \"Scholarship holder\",\n",
    "            \"Curricular units 1st sem (enrolled)\",\n",
    "            \"Curricular units 1st sem (approved)\",\n",
    "            \"Curricular units 2nd sem (enrolled)\",\n",
    "            \"Curricular units 2nd sem (approved)\"\n",
    "        ],\n",
    "        \"target_variable\": \"Graduation Outcome\"\n",
    "    },\n",
    "    \"preprocessing\": {\n",
    "        \"scaling\": \"StandardScaler\",\n",
    "        \"details\": {\n",
    "            \"mean\": \"StandardScaler (centering)\",\n",
    "            \"std\": \"StandardScaler (scaling)\"\n",
    "        }\n",
    "    }\n",
    "}\n",
    "\n",
    "# Guardar el archivo como YAML\n",
    "with open(\"model_config.yaml\", \"w\") as file:\n",
    "    yaml.dump(config, file)"
   ]
  }
 ],
 "metadata": {
  "kernelspec": {
   "display_name": "Python 3",
   "language": "python",
   "name": "python3"
  },
  "language_info": {
   "codemirror_mode": {
    "name": "ipython",
    "version": 3
   },
   "file_extension": ".py",
   "mimetype": "text/x-python",
   "name": "python",
   "nbconvert_exporter": "python",
   "pygments_lexer": "ipython3",
   "version": "3.12.6"
  }
 },
 "nbformat": 4,
 "nbformat_minor": 2
}
